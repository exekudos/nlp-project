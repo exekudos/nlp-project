{
 "cells": [
  {
   "cell_type": "code",
   "execution_count": 40,
   "metadata": {},
   "outputs": [],
   "source": [
    "#Input\n",
    "word = \"cover\"\n",
    "word1 = \"cover.02\"\n",
    "word2 = \"CAUSE-COVER\""
   ]
  },
  {
   "cell_type": "code",
   "execution_count": 41,
   "metadata": {},
   "outputs": [],
   "source": [
    "import jsontrips\n",
    "import xml.etree.ElementTree as ET\n",
    "ont = jsontrips.ontology()\n",
    "def trips_roles(onttype):\n",
    "    roles = []\n",
    "    for role_dic in ont[onttype]['arguments']:\n",
    "        roles.append([role_dic['role'] , role_dic['optionality']])\n",
    "    return roles\n",
    "def parse(root , rolesetid):\n",
    "    if root == None:\n",
    "        return\n",
    "    for predicate in root:\n",
    "        for roleset in predicate:\n",
    "            if roleset.attrib['id'] == rolesetid:\n",
    "                roles = extract_roles(roleset)\n",
    "                #vnroles = extract_vnroles(roleset)\n",
    "                break\n",
    "        if roleset.attrib['id'] == rolesetid:\n",
    "            break\n",
    "    return roles\n",
    "def extract_roles(roleset):\n",
    "    roles_list = []\n",
    "    vnroles = []\n",
    "    for things in roleset:\n",
    "        if things.tag == \"roles\":\n",
    "            for role_thing in things:\n",
    "                if role_thing.tag == \"role\":\n",
    "                    roles_list.append([role_thing.attrib['n'],role_thing.attrib['f']])\n",
    "                    vnr = []\n",
    "                    for vn in role_thing:\n",
    "                        if vn.tag == 'vnrole':\n",
    "                            vnr.append(vn.attrib['vntheta'])\n",
    "                    vnroles.append(vnr)\n",
    "            break\n",
    "    return roles_list , vnroles"
   ]
  },
  {
   "cell_type": "code",
   "execution_count": 42,
   "metadata": {},
   "outputs": [],
   "source": [
    "tree = ET.parse( word + \".xml\")\n",
    "root = tree.getroot()\n",
    "a, b = parse(root , word1)\n",
    "c = trips_roles(word2)"
   ]
  },
  {
   "cell_type": "code",
   "execution_count": 43,
   "metadata": {},
   "outputs": [
    {
     "data": {
      "text/plain": [
       "[['0', 'pag'], ['1', 'ppt'], ['2', 'ppt']]"
      ]
     },
     "execution_count": 43,
     "metadata": {},
     "output_type": "execute_result"
    }
   ],
   "source": [
    "a"
   ]
  },
  {
   "cell_type": "code",
   "execution_count": 44,
   "metadata": {},
   "outputs": [
    {
     "data": {
      "text/plain": [
       "[['agent'], ['destination', 'co-theme'], ['theme', 'theme']]"
      ]
     },
     "execution_count": 44,
     "metadata": {},
     "output_type": "execute_result"
    }
   ],
   "source": [
    "b"
   ]
  },
  {
   "cell_type": "code",
   "execution_count": 45,
   "metadata": {},
   "outputs": [
    {
     "data": {
      "text/plain": [
       "[['AFFECTED1', 'OPTIONAL'],\n",
       " ['AFFECTED-RESULT', 'ESSENTIAL'],\n",
       " ['RESULT', 'OPTIONAL'],\n",
       " ['AFFECTED', 'ESSENTIAL'],\n",
       " ['AGENT', 'ESSENTIAL']]"
      ]
     },
     "execution_count": 45,
     "metadata": {},
     "output_type": "execute_result"
    }
   ],
   "source": [
    "c"
   ]
  },
  {
   "cell_type": "code",
   "execution_count": 46,
   "metadata": {},
   "outputs": [],
   "source": [
    "def role_matching(a,b,c):\n",
    "    if a[0][0] == '0':\n",
    "        flag1 = 0\n",
    "        for tuples in c:\n",
    "            if tuples[0] == 'AGENT':\n",
    "                flag1 = 1\n",
    "            if tuples[0] == 'EXPERIENCER':\n",
    "                flag1 = -1\n",
    "        if flag1 == 1:\n",
    "            print(\"ARG0 matched to AGENT\")\n",
    "        elif flag1 == -1:\n",
    "            print(\"ARG0 matched to EXPERIENCER\")\n",
    "        else:\n",
    "            print(\"ARG0 is unmatched\")"
   ]
  },
  {
   "cell_type": "code",
   "execution_count": 47,
   "metadata": {},
   "outputs": [
    {
     "name": "stdout",
     "output_type": "stream",
     "text": [
      "ARG0 matched to AGENT\n"
     ]
    }
   ],
   "source": [
    "role_matching(a,b,c)"
   ]
  },
  {
   "cell_type": "code",
   "execution_count": 55,
   "metadata": {},
   "outputs": [],
   "source": [
    "def present(num , a):\n",
    "    for i in range(len(a)):\n",
    "        if a[i][0] == num:\n",
    "            return (True , i)\n",
    "    return (False , 0)"
   ]
  },
  {
   "cell_type": "code",
   "execution_count": 49,
   "metadata": {},
   "outputs": [],
   "source": [
    "def remove(listi , word):\n",
    "    for i in range(len(listi)):\n",
    "        if listi[i] == word:\n",
    "            del listi[i]\n",
    "            break"
   ]
  },
  {
   "cell_type": "code",
   "execution_count": 85,
   "metadata": {},
   "outputs": [],
   "source": [
    "def from_vn(num , role , vnrole):\n",
    "    dic = {'agent':['AGENT','EXPERIENCER'],'causer':['AGENT'],'instrument':['AGENT'],'stimulus':['AGENT','NEUTRAL','FORMAL'],\n",
    "           'theme':['AGENT','AFFECTED','NEUTRAL','FORMAL'],'patient':['AFFECTED'],'destination':['AFFECTED'],'source':['AFFECTED'],\n",
    "           'experiencer':['AFFECTED','NEUTRAL','EXPERIENCER'],'product':['AFFECTED'],'result':['AFFECTED'],'pivot':['AFFECTED'],\n",
    "           'location':['NEUTRAL'],'topic':['NEUTRAL'],'attribute':['FORMAL'],'predicate':['FORMAL'],'result':['FORMAL'],\n",
    "          }\n",
    "    if num == 1:\n",
    "        if role == 'EXPERIENCER':\n",
    "            l = dic[vnrole]\n",
    "            remove(l,'EXPERIENCER')\n",
    "            remove(l,'AGENT')\n",
    "            remove(l,'AFFECTED')\n",
    "            return l\n",
    "        elif role == 'AGENT':\n",
    "            l = dic[vnrole]\n",
    "            remove(l,'EXPERIENCER')\n",
    "            remove(l,'AGENT')\n",
    "            return l"
   ]
  },
  {
   "cell_type": "code",
   "execution_count": 89,
   "metadata": {},
   "outputs": [],
   "source": [
    "def role_matching(a,b,c):\n",
    "    # Match ARG0 if present\n",
    "    if present('0',a)[0]:\n",
    "        if present('EXPERIENCER' , c)[0]:\n",
    "            e = 'EXPERIENCER'\n",
    "            print(\"ARG0 matched to EXPERIENCER\")\n",
    "        elif present('AGENT' , c)[0]:\n",
    "            e = 'AGENT'\n",
    "            print(\"ARG0 matched to AGENT\")\n",
    "        else:\n",
    "            print(\"ARG0 is unmatched\")\n",
    "    if present('1',a)[0]:\n",
    "        l = from_vn(1 , e , b[present('1',a)[1]][0])\n",
    "        print(\"ARG1 is matched to {}\".format(l))        \n",
    "    #if present('2',a):\n",
    "        # DO STUFF\n",
    "    #if present('3',a):\n",
    "        # DO STUFF"
   ]
  },
  {
   "cell_type": "code",
   "execution_count": 90,
   "metadata": {},
   "outputs": [
    {
     "name": "stdout",
     "output_type": "stream",
     "text": [
      "ARG0 matched to AGENT\n",
      "ARG1 is matched to ['AFFECTED']\n"
     ]
    }
   ],
   "source": [
    "role_matching(a,b,c)"
   ]
  },
  {
   "cell_type": "code",
   "execution_count": null,
   "metadata": {},
   "outputs": [],
   "source": []
  }
 ],
 "metadata": {
  "kernelspec": {
   "display_name": "Python 3",
   "language": "python",
   "name": "python3"
  },
  "language_info": {
   "codemirror_mode": {
    "name": "ipython",
    "version": 3
   },
   "file_extension": ".py",
   "mimetype": "text/x-python",
   "name": "python",
   "nbconvert_exporter": "python",
   "pygments_lexer": "ipython3",
   "version": "3.6.8"
  }
 },
 "nbformat": 4,
 "nbformat_minor": 2
}
