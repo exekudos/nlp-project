{
 "cells": [
  {
   "cell_type": "code",
   "execution_count": 9,
   "metadata": {},
   "outputs": [],
   "source": [
    "#Input\n",
    "word = \"cover\"\n",
    "word1 = \"cover.02\"\n",
    "word2 = \"COVER\""
   ]
  },
  {
   "cell_type": "code",
   "execution_count": 10,
   "metadata": {},
   "outputs": [],
   "source": [
    "import jsontrips\n",
    "import xml.etree.ElementTree as ET\n",
    "ont = jsontrips.ontology()\n",
    "def trips_roles(onttype):\n",
    "    roles = []\n",
    "    for role_dic in ont[onttype]['arguments']:\n",
    "        roles.append((role_dic['role'] , role_dic['optionality']))\n",
    "    return roles\n",
    "def parse(root , rolesetid):\n",
    "    if root == None:\n",
    "        return\n",
    "    for predicate in root:\n",
    "        for roleset in predicate:\n",
    "            if roleset.attrib['id'] == rolesetid:\n",
    "                roles = extract_roles(roleset)\n",
    "                #vnroles = extract_vnroles(roleset)\n",
    "                break\n",
    "        if roleset.attrib['id'] == rolesetid:\n",
    "            break\n",
    "    return roles\n",
    "def extract_roles(roleset):\n",
    "    roles_list = []\n",
    "    vnroles = []\n",
    "    for things in roleset:\n",
    "        if things.tag == \"roles\":\n",
    "            for role_thing in things:\n",
    "                if role_thing.tag == \"role\":\n",
    "                    roles_list.append((role_thing.attrib['n'],role_thing.attrib['f']))\n",
    "                    vnr = []\n",
    "                    for vn in role_thing:\n",
    "                        if vn.tag == 'vnrole':\n",
    "                            vnr.append(vn.attrib['vntheta'])\n",
    "                    vnroles.append(vnr)\n",
    "            break\n",
    "    return roles_list , vnroles"
   ]
  },
  {
   "cell_type": "code",
   "execution_count": 11,
   "metadata": {},
   "outputs": [],
   "source": [
    "tree = ET.parse( word + \".xml\")\n",
    "root = tree.getroot()\n",
    "a, b = parse(root , word1)\n",
    "c = trips_roles(word2)"
   ]
  },
  {
   "cell_type": "code",
   "execution_count": 12,
   "metadata": {},
   "outputs": [
    {
     "data": {
      "text/plain": [
       "[('0', 'pag'), ('1', 'ppt'), ('2', 'ppt')]"
      ]
     },
     "execution_count": 12,
     "metadata": {},
     "output_type": "execute_result"
    }
   ],
   "source": [
    "a"
   ]
  },
  {
   "cell_type": "code",
   "execution_count": 13,
   "metadata": {},
   "outputs": [
    {
     "data": {
      "text/plain": [
       "[['agent'], ['destination', 'co-theme'], ['theme', 'theme']]"
      ]
     },
     "execution_count": 13,
     "metadata": {},
     "output_type": "execute_result"
    }
   ],
   "source": [
    "b"
   ]
  },
  {
   "cell_type": "code",
   "execution_count": 14,
   "metadata": {},
   "outputs": [
    {
     "data": {
      "text/plain": [
       "[('AFFECTED1', 'OPTIONAL'),\n",
       " ('AFFECTED', 'OPTIONAL'),\n",
       " ('AGENT', 'OPTIONAL'),\n",
       " ('NEUTRAL', 'OPTIONAL'),\n",
       " ('NEUTRAL1', 'OPTIONAL'),\n",
       " ('FORMAL', 'ESSENTIAL'),\n",
       " ('NOROLE', 'OPTIONAL')]"
      ]
     },
     "execution_count": 14,
     "metadata": {},
     "output_type": "execute_result"
    }
   ],
   "source": [
    "c"
   ]
  },
  {
   "cell_type": "code",
   "execution_count": 17,
   "metadata": {},
   "outputs": [],
   "source": [
    "def role_matching(a,b,c):\n",
    "    if a[0][0] == '0':\n",
    "        flag1 = 0\n",
    "        for tuples in c:\n",
    "            if tuples[0] == 'AGENT':\n",
    "                flag1 = 1\n",
    "            if tuples[0] == 'EXPERIENCER':\n",
    "                flag1 = -1\n",
    "        if flag1 == 1:\n",
    "            print(\"ARG0 matched to AGENT\")\n",
    "        elif flag1 == -1:\n",
    "            print(\"ARG0 matched to EXPERIENCER\")\n",
    "        else:\n",
    "            print(\"ARG0 is unmatched\")"
   ]
  },
  {
   "cell_type": "code",
   "execution_count": 18,
   "metadata": {},
   "outputs": [
    {
     "name": "stdout",
     "output_type": "stream",
     "text": [
      "ARG0 matched to AGENT\n"
     ]
    }
   ],
   "source": [
    "role_matching(a,b,c)"
   ]
  },
  {
   "cell_type": "code",
   "execution_count": null,
   "metadata": {},
   "outputs": [],
   "source": []
  }
 ],
 "metadata": {
  "kernelspec": {
   "display_name": "Python 3",
   "language": "python",
   "name": "python3"
  },
  "language_info": {
   "codemirror_mode": {
    "name": "ipython",
    "version": 3
   },
   "file_extension": ".py",
   "mimetype": "text/x-python",
   "name": "python",
   "nbconvert_exporter": "python",
   "pygments_lexer": "ipython3",
   "version": "3.6.8"
  }
 },
 "nbformat": 4,
 "nbformat_minor": 2
}
